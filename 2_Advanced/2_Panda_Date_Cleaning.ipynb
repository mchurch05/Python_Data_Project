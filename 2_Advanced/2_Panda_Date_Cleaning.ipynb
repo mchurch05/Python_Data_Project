{
 "cells": [
  {
   "cell_type": "code",
   "execution_count": 2,
   "id": "20a9a66d",
   "metadata": {},
   "outputs": [],
   "source": [
    "# Importing Libraries \n",
    "import pandas as pd\n",
    "from datasets import load_dataset \n",
    "import matplotlib.pyplot as plt\n",
    "# Loading Data\n",
    "dataset = load_dataset ( 'lukebarousse/data_jobs')\n",
    "df = dataset ['train'].to_pandas ()\n",
    "# Data Cleanup\n",
    "df['job_posted_date'] = pd.to_datetime (df ['job_posted_date'])"
   ]
  },
  {
   "cell_type": "code",
   "execution_count": 3,
   "id": "a658ecc3",
   "metadata": {},
   "outputs": [],
   "source": [
    "median_salary = df['salary_year_avg'].median()\n",
    "median_hourly = df['salary_hour_avg'].median()"
   ]
  },
  {
   "cell_type": "code",
   "execution_count": null,
   "id": "b6558059",
   "metadata": {},
   "outputs": [],
   "source": [
    "df_filled = df\n",
    "df_filled['salary_year_avg'] = df_filled['salary_year_avg'].fillna(median_salary)\n",
    "df_filled['salary_hour_avg'] = df_filled['salary_hour_avg'].fillna(median_hourly)\n"
   ]
  },
  {
   "cell_type": "code",
   "execution_count": 18,
   "id": "751f1ed2",
   "metadata": {},
   "outputs": [
    {
     "data": {
      "text/html": [
       "<div>\n",
       "<style scoped>\n",
       "    .dataframe tbody tr th:only-of-type {\n",
       "        vertical-align: middle;\n",
       "    }\n",
       "\n",
       "    .dataframe tbody tr th {\n",
       "        vertical-align: top;\n",
       "    }\n",
       "\n",
       "    .dataframe thead th {\n",
       "        text-align: right;\n",
       "    }\n",
       "</style>\n",
       "<table border=\"1\" class=\"dataframe\">\n",
       "  <thead>\n",
       "    <tr style=\"text-align: right;\">\n",
       "      <th></th>\n",
       "      <th>salary_year_avg</th>\n",
       "      <th>salary_hour_avg</th>\n",
       "    </tr>\n",
       "  </thead>\n",
       "  <tbody>\n",
       "    <tr>\n",
       "      <th>0</th>\n",
       "      <td>115000.0</td>\n",
       "      <td>45.98</td>\n",
       "    </tr>\n",
       "    <tr>\n",
       "      <th>1</th>\n",
       "      <td>115000.0</td>\n",
       "      <td>45.98</td>\n",
       "    </tr>\n",
       "    <tr>\n",
       "      <th>2</th>\n",
       "      <td>115000.0</td>\n",
       "      <td>45.98</td>\n",
       "    </tr>\n",
       "    <tr>\n",
       "      <th>3</th>\n",
       "      <td>115000.0</td>\n",
       "      <td>45.98</td>\n",
       "    </tr>\n",
       "    <tr>\n",
       "      <th>4</th>\n",
       "      <td>115000.0</td>\n",
       "      <td>45.98</td>\n",
       "    </tr>\n",
       "    <tr>\n",
       "      <th>5</th>\n",
       "      <td>115000.0</td>\n",
       "      <td>45.98</td>\n",
       "    </tr>\n",
       "    <tr>\n",
       "      <th>6</th>\n",
       "      <td>115000.0</td>\n",
       "      <td>45.98</td>\n",
       "    </tr>\n",
       "    <tr>\n",
       "      <th>7</th>\n",
       "      <td>115000.0</td>\n",
       "      <td>45.98</td>\n",
       "    </tr>\n",
       "    <tr>\n",
       "      <th>8</th>\n",
       "      <td>115000.0</td>\n",
       "      <td>45.98</td>\n",
       "    </tr>\n",
       "    <tr>\n",
       "      <th>9</th>\n",
       "      <td>115000.0</td>\n",
       "      <td>45.98</td>\n",
       "    </tr>\n",
       "    <tr>\n",
       "      <th>10</th>\n",
       "      <td>115000.0</td>\n",
       "      <td>45.98</td>\n",
       "    </tr>\n",
       "  </tbody>\n",
       "</table>\n",
       "</div>"
      ],
      "text/plain": [
       "    salary_year_avg  salary_hour_avg\n",
       "0          115000.0            45.98\n",
       "1          115000.0            45.98\n",
       "2          115000.0            45.98\n",
       "3          115000.0            45.98\n",
       "4          115000.0            45.98\n",
       "5          115000.0            45.98\n",
       "6          115000.0            45.98\n",
       "7          115000.0            45.98\n",
       "8          115000.0            45.98\n",
       "9          115000.0            45.98\n",
       "10         115000.0            45.98"
      ]
     },
     "execution_count": 18,
     "metadata": {},
     "output_type": "execute_result"
    }
   ],
   "source": [
    "df_filled.loc[:10, 'salary_year_avg': 'salary_hour_avg']"
   ]
  },
  {
   "cell_type": "code",
   "execution_count": 19,
   "id": "139e70b6",
   "metadata": {},
   "outputs": [],
   "source": [
    "df_unique = df_filled.drop_duplicates()"
   ]
  },
  {
   "cell_type": "code",
   "execution_count": 26,
   "id": "e327c16a",
   "metadata": {},
   "outputs": [
    {
     "name": "stdout",
     "output_type": "stream",
     "text": [
      "785741\n",
      "785640\n",
      "101\n"
     ]
    }
   ],
   "source": [
    "print(len(df_filled))\n",
    "print(len(df_unique))\n",
    "print(len(df_filled)-len(df_unique))\n"
   ]
  },
  {
   "cell_type": "code",
   "execution_count": 27,
   "id": "c2d4504e",
   "metadata": {},
   "outputs": [],
   "source": [
    "df_unique = df_unique.drop_duplicates(subset=['job_title', 'company_name'])"
   ]
  },
  {
   "cell_type": "code",
   "execution_count": 28,
   "id": "79ae3fdc",
   "metadata": {},
   "outputs": [
    {
     "name": "stdout",
     "output_type": "stream",
     "text": [
      "785741\n",
      "508042\n",
      "277699\n"
     ]
    }
   ],
   "source": [
    "print(len(df_filled))\n",
    "print(len(df_unique))\n",
    "print(len(df_filled)-len(df_unique))"
   ]
  }
 ],
 "metadata": {
  "kernelspec": {
   "display_name": "python_course",
   "language": "python",
   "name": "python3"
  },
  "language_info": {
   "codemirror_mode": {
    "name": "ipython",
    "version": 3
   },
   "file_extension": ".py",
   "mimetype": "text/x-python",
   "name": "python",
   "nbconvert_exporter": "python",
   "pygments_lexer": "ipython3",
   "version": "3.11.11"
  }
 },
 "nbformat": 4,
 "nbformat_minor": 5
}
